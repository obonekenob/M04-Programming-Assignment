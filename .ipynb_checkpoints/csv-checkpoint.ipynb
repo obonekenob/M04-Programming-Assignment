{
 "cells": [
  {
   "cell_type": "code",
   "execution_count": 7,
   "id": "ad7318f6",
   "metadata": {},
   "outputs": [],
   "source": [
    "\"\"\" SDEV220 M04 Programming Assignment\n",
    "    Paul R Thompson\n",
    "    Chapter 16 Problem 1\n",
    "\"\"\"\n",
    "# set up input to be written to test.csv flie\n",
    "\n",
    "text = '''author,book\n",
    "    J R R tolkien,The Hobbit\n",
    "    Lynne Truss,\"Eats, Shoots & Leaves\"\n",
    "    '''\n",
    "# write text data to test.csv file\n",
    "\n",
    "with open('test.csv', 'wt') as outfile:\n",
    "    outfile.write(text)\n",
    "    \n"
   ]
  },
  {
   "cell_type": "code",
   "execution_count": 19,
   "id": "903ea496",
   "metadata": {},
   "outputs": [
    {
     "name": "stdout",
     "output_type": "stream",
     "text": [
      "{'author': 'J R R Tolkien', 'book': 'The Hobbit'}\n",
      "{'author': 'Lynne Truss', 'book': 'Eats, Shoots & Leaves'}\n"
     ]
    }
   ],
   "source": [
    "\"\"\" SDEV220 M04 Programming Assignment\n",
    "    Paul R Thompson\n",
    "    Chapter 16 Problem 2\n",
    "\"\"\"\n",
    "\n",
    "# read the file \n",
    "# Second books quotes and commas in title are handled correctly\n",
    "\n",
    "with open('books.csv', 'rt') as infile:\n",
    "    books = csv.DictReader(infile)\n",
    "    for book in books:\n",
    "        print(book)\n",
    "        "
   ]
  },
  {
   "cell_type": "code",
   "execution_count": null,
   "id": "85046939",
   "metadata": {},
   "outputs": [],
   "source": []
  }
 ],
 "metadata": {
  "kernelspec": {
   "display_name": "Python 3 (ipykernel)",
   "language": "python",
   "name": "python3"
  },
  "language_info": {
   "codemirror_mode": {
    "name": "ipython",
    "version": 3
   },
   "file_extension": ".py",
   "mimetype": "text/x-python",
   "name": "python",
   "nbconvert_exporter": "python",
   "pygments_lexer": "ipython3",
   "version": "3.9.13"
  }
 },
 "nbformat": 4,
 "nbformat_minor": 5
}
