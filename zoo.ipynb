{
 "cells": [
  {
   "cell_type": "code",
   "execution_count": 1,
   "id": "13ac506b",
   "metadata": {},
   "outputs": [],
   "source": [
    "\"\"\" SDEV220 M04 Programming Assignment\n",
    "    Paul R thompson\n",
    "    Chapter 11 Problem 1-A\n",
    "\"\"\"\n",
    "\n",
    "# Define function hours and save as zoo.py\n",
    "\n",
    "def hours():\n",
    "    print('Open 9-5 daily')\n"
   ]
  },
  {
   "cell_type": "code",
   "execution_count": 3,
   "id": "3db1e396",
   "metadata": {},
   "outputs": [
    {
     "name": "stdout",
     "output_type": "stream",
     "text": [
      "Open 9-5 daily\n"
     ]
    }
   ],
   "source": [
    "\"\"\" SDEV220 M04 Programming Assignment\n",
    "    Paul R thompson\n",
    "    Chapter 11 Problem 1-B\n",
    "\"\"\"\n",
    "\n",
    "# import function defined in chapter 11 problem 1-A\n",
    "# and execute it\n",
    "\n",
    "import zoo\n",
    "zoo.hours()\n"
   ]
  },
  {
   "cell_type": "code",
   "execution_count": 4,
   "id": "95274660",
   "metadata": {},
   "outputs": [
    {
     "name": "stdout",
     "output_type": "stream",
     "text": [
      "Open 9-5 daily\n"
     ]
    }
   ],
   "source": [
    "\"\"\" SDEV220 M04 Programming Assignment\n",
    "    Paul R thompson\n",
    "    Chapter 11 Problem 2\n",
    "\"\"\"\n",
    "\n",
    "# import function defined in chapter 11 problem 1-A\n",
    "# renameing the function menagerie then execute\n",
    "\n",
    "import zoo as menagerie\n",
    "menagerie.hours()\n",
    "\n"
   ]
  },
  {
   "cell_type": "code",
   "execution_count": null,
   "id": "5f21e7a1",
   "metadata": {},
   "outputs": [],
   "source": []
  }
 ],
 "metadata": {
  "kernelspec": {
   "display_name": "Python 3 (ipykernel)",
   "language": "python",
   "name": "python3"
  },
  "language_info": {
   "codemirror_mode": {
    "name": "ipython",
    "version": 3
   },
   "file_extension": ".py",
   "mimetype": "text/x-python",
   "name": "python",
   "nbconvert_exporter": "python",
   "pygments_lexer": "ipython3",
   "version": "3.9.13"
  }
 },
 "nbformat": 4,
 "nbformat_minor": 5
}
